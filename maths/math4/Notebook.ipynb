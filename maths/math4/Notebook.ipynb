{
 "cells": [
  {
   "cell_type": "markdown",
   "metadata": {},
   "source": [
    "# Задание 2.1\n",
    "\n",
    "Для каких из этих задач оптимизации можно применять метод Лагранжа? (целевая функция дифференцируема)\n",
    "\n",
    "- Для задач, где функции ограничений дифференцируемы\n",
    "- Для задач, где ограничения заданы в виде $a \\leq x \\leq b$"
   ]
  },
  {
   "cell_type": "markdown",
   "metadata": {},
   "source": [
    "# Задание 2.2\n",
    "\n",
    "Найдите квадрат расстояния от точки $(2;1)$ до прямой $\\xi_1+\\xi_2=1$ с помощью метода Лагранжа.\n",
    "\n",
    "В данно случае задача оптимизации выглядит так:\n",
    "\n",
    "$$\n",
    "\\min_{\\xi_1+\\xi_2-1=0}(\\xi_1-\\xi_{10})^2 + (\\xi_2-\\xi_{20})^2\n",
    "$$\n",
    "\n",
    "Запишем уравнение прямой на плоскости в общем виде:\n",
    "\n",
    "$$\n",
    "A\\xi_1+B\\xi_2+C=0\n",
    "$$\n",
    "\n",
    "В нашем случае это $\\xi_1+\\xi_2-1=0$.\n",
    "\n",
    "Запишем уравнение квадрата расстояния от точки $(\\xi_{10},\\xi_{20})$ до произвольной точки $(\\xi_1,\\xi_2)$:\n",
    "\n",
    "$$\n",
    "\\rho^2 = (\\xi_1-\\xi_{10})^2 + (\\xi_2-\\xi_{20})^2 = (\\xi_1-2)^2 + (\\xi_2-1)^2\n",
    "$$\n",
    "\n",
    "Тогда уравнение Лагранжа для нашей задачи:\n",
    "\n",
    "$$\n",
    "L = (\\xi_1-\\xi_{10})^2 + (\\xi_2-\\xi_{20})^2 + \\lambda(A\\xi_1+B\\xi_2+C) = (\\xi_1-2)^2 + (\\xi_2-1)^2 + \\lambda(\\xi_1+\\xi_2-1)\n",
    "$$\n",
    "\n",
    "Запишем частные производные:\n",
    "\n",
    "$$\n",
    "\\begin{cases}\n",
    "\\dfrac{\\partial L(\\xi_1,\\xi_2,\\lambda)}{\\partial \\xi_1} = 2\\xi_1 - 2\\xi_{10} + A\\lambda = 2\\xi_1 - 4 + \\lambda\\\\\n",
    "\\dfrac{\\partial L(\\xi_1,\\xi_2, \\lambda)}{\\partial \\xi_2} = 2\\xi_2 - 2\\xi_{20} + B\\lambda = 2\\xi_2 - 2 + \\lambda\\\\\n",
    "\\dfrac{\\partial L(\\xi_1,\\xi_2, \\lambda)}{\\partial \\lambda} = A\\xi_1 + B\\xi_2 + C = \\xi_1 + \\xi_2 - 1\n",
    "\\end{cases}\n",
    "$$\n",
    "\n",
    "Запишем СЛАУ в матричном виде:\n",
    "\n",
    "$$\n",
    "\\left(\\begin{array}{rrr|r}\n",
    "   2 & 0 & 1 & 4\\\\\n",
    "   0 & 2 & 1 & 2\\\\\n",
    "   1 & 1 & 0 & 1\n",
    "\\end{array}\\right)\n",
    "=\n",
    "\\left(\\begin{array}{rrr|r}\n",
    "   1 & 0 & 0 & 1\\\\\n",
    "   0 & 0 & 1 & 2\\\\\n",
    "   0 & 1 & 0 & 0\n",
    "\\end{array}\\right)\n",
    "$$\n",
    "\n",
    "Таким образом, получаем:\n",
    "\n",
    "$\\xi_1 = 1$, $\\xi_2 = 0$, $\\lambda = 2$\n",
    "\n",
    "Подставим в уравнение Лагранжа:\n",
    "\n",
    "$$\n",
    "L = (\\xi_1-2)^2 + (\\xi_2-1)^2 + \\lambda(\\xi_1+\\xi_2-1) = 1^2 + (-1)^2 + 2(1+0-1) = 2\n",
    "$$\n",
    "\n",
    "Ответ: $\\rho^2 = 2$"
   ]
  },
  {
   "cell_type": "markdown",
   "metadata": {},
   "source": [
    "# Задание 2.3\n",
    "\n",
    "Прямоугольный параллелепипед имеет объем 1$\\text{м}^3$. Какова минимальная площадь его поверхности?\n",
    "\n",
    "В данном случае нам нужно решить задачу:\n",
    "    \n",
    "$$\n",
    "\\min_{\\xi_1\\xi_2\\xi_3 = 1}{2(\\xi_1\\xi_2+\\xi_2\\xi_3+\\xi_1\\xi_3)} = \\min_{V = 1}{2\\bigg(\\xi_1\\xi_2 + \\dfrac{V}{\\xi_1} + \\dfrac{V}{\\xi_2}\\bigg)}\n",
    "$$\n",
    "\n",
    "Запишем уравнение лагранжа:\n",
    "\n",
    "$$\n",
    "L(\\xi_1, \\xi_2, \\lambda) = 2\\bigg(\\xi_1\\xi_2 + \\dfrac{V}{\\xi_1} + \\dfrac{V}{\\xi_2}\\bigg) + \\lambda(V-1)\n",
    "$$\n",
    "\n",
    "Запишем частные производные:\n",
    "\n",
    "$$\n",
    "\\begin{cases}\n",
    "\\dfrac{\\partial L(\\xi_1, \\xi_2, \\lambda)}{\\partial \\xi_1} = 2\\bigg(\\xi_2 - \\dfrac{V}{\\xi_1^2}\\bigg)\\\\\n",
    "\\dfrac{\\partial L(\\xi_1, \\xi_2, \\lambda)}{\\partial \\xi_2} = 2\\bigg(\\xi_1 - \\dfrac{V}{\\xi_2^2}\\bigg)\\\\\n",
    "\\dfrac{\\partial L(\\xi_1, \\xi_2, \\xi_3, \\lambda)}{\\partial \\lambda} = V - 1\n",
    "\\end{cases}\n",
    "$$\n",
    "\n",
    "Подставим в формулу $\\xi_2 = \\dfrac{V}{\\xi_1\\xi_3}$ и $\\xi_1 = \\dfrac{V}{\\xi_2\\xi_3}$. Получим:\n",
    "\n",
    "$$\n",
    "\\begin{cases}\n",
    "\\xi_1 = \\xi_3\\\\\n",
    "\\xi_2 = \\xi_3\\\\\n",
    "\\xi_3^3 = 1\n",
    "\\end{cases}\n",
    "$$\n",
    "\n",
    "Отсюда \n",
    "\n",
    "$\\xi_1 = 1$, $\\xi_2 = 1$, $\\xi_3 = 1$\n",
    "\n",
    "Таким образом,\n",
    "\n",
    "$$\n",
    "S_\\text{min} = 2(\\xi_1\\xi_2+\\xi_2\\xi_3+\\xi_1\\xi_3) = 6\n",
    "$$\n",
    "\n",
    "Ответ: $S_\\text{min} = 6$"
   ]
  },
  {
   "cell_type": "markdown",
   "metadata": {},
   "source": [
    "# Задача 3.1\n",
    "\n",
    "Какие из этих ограничений можно свести к ограничениям равенства?\n",
    "\n",
    "$\\sin{x}\\geq 0.5$\n",
    "\n",
    "$x^2\\leq0$\n",
    "\n",
    "$\\cos{x}\\leq\\sin{x}$\n",
    "\n",
    "$x+y\\leq x-y$"
   ]
  },
  {
   "cell_type": "markdown",
   "metadata": {},
   "source": [
    "# Задача 3.2\n",
    "\n",
    "Сколько переменных будет у функции Лагранжа этой задачи:\n",
    "\n",
    "$\\min\\limits_{5\\leq x\\leq 8\\\\x+y=2}{x^2+2xy+y^2}$\n",
    "\n",
    "Запишем функцию Лагранжа\n",
    "\n",
    "$$\n",
    "L = x^2 + 2xy + y^2 + \\lambda_1(x+\\tilde{x}^2) + \\lambda_2(x+y-2)\n",
    "$$\n",
    "\n",
    "Ответ: 5"
   ]
  },
  {
   "cell_type": "markdown",
   "metadata": {},
   "source": [
    "# Задача 3.3\n",
    "\n",
    "На стороне $\\textrm{BC}$ равностороннего треугольника $\\textrm{ABC}$ найти точку $\\textrm{E}$ такую, для которой параллелограмм $\\textrm{ADEF}$, у которого точки $\\textrm{D}$ и $\\textrm{F}$ лежат соответственно на сторонах $\\textrm{AB}$ и $\\textrm{AC}$, имеет наибольшую площадь. Сторона треугольника равна $\\textrm{1}$. Чему равна эта площадь c точностью до сотых?\n",
    "\n",
    "В силу подобия треугольников $\\textrm{ABC}$M, $\\textrm{DBE}$, $\\textrm{FEC}$, $\\textrm{EFD}$ и $\\textrm{ADF}$, получаем:\n",
    "\n",
    "$$\n",
    "\\begin{cases}\n",
    "\\textrm{AF} = \\textrm{BE}\\\\\n",
    "\\textrm{AD} = \\textrm{EC}\n",
    "\\end{cases}\n",
    "$$\n",
    "\n",
    "Учитывая, что $\\textrm{CB} = \\textrm{CE} + \\textrm{EB}$, получим\n",
    "\n",
    "$$\n",
    "\\textrm{AD} = \\textrm{BC} - \\textrm{AF}\n",
    "$$\n",
    "\n",
    "Так как площадь равна удвоенному скалярному произведению двух соседних сторон параллелограмма: \n",
    "\n",
    "$$\n",
    "S = 2(\\vec{\\xi_1},\\vec{\\xi_2}) = 2(\\vec{\\textrm{AD}},\\vec{\\textrm{AF}}) =2\\sin{(\\widehat{\\vec{\\textrm{AD}},\\vec{\\textrm{AF}}})}|\\vec{\\textrm{AD}}||\\vec{\\textrm{AF}}|\n",
    "$$\n",
    "\n",
    "Обозначим $\\textrm{AF} = \\xi$, тогда $\\textrm{AD} = \\textrm{BC} - \\xi$, тогда\n",
    "\n",
    "$$\n",
    "S = 2\\sin{(\\widehat{\\vec{\\textrm{AD}},\\vec{\\textrm{AF}}})}(|\\vec{\\textrm{BC}}| - |\\vec{\\textrm{AF}}|)|\\vec{\\textrm{AF}}| = \\sqrt{3}(1-\\xi)\\xi\n",
    "$$\n",
    "\n",
    "Посчитаем производную\n",
    "\n",
    "$$\n",
    "\\dfrac{dS}{d\\xi} = \\sqrt{3}(1-2\\xi)\n",
    "$$\n",
    "\n",
    "Приравняв ее к нулю, получим:\n",
    "\n",
    "$$\n",
    "\\xi_\\min = \\dfrac{1}{2}\n",
    "$$\n",
    "\n",
    "Отсюда \n",
    "\n",
    "$$\n",
    "S_\\min = \\dfrac{\\sqrt{3}}{4}\n",
    "$$\n",
    "\n",
    "Ответ: $S_\\min \\approx 0.22$"
   ]
  },
  {
   "cell_type": "markdown",
   "metadata": {},
   "source": [
    "# Задание 4.1\n",
    "\n",
    "Какие из этих функций могут быть целевыми в задаче линейного программирования?\n",
    "\n",
    "$2x_1 + x_2 + 2$"
   ]
  },
  {
   "cell_type": "markdown",
   "metadata": {},
   "source": [
    "# Задание 4.2\n",
    "\n",
    "Можно ли использовать метод Лагранжа для задач линейного программирования?\n",
    "\n",
    "Ответ: Всегда можно."
   ]
  },
  {
   "cell_type": "markdown",
   "metadata": {},
   "source": [
    "# Задание 4.3\n",
    "\n",
    "Какие числа должны быть целыми в задаче ЦЛП?\n",
    "\n",
    "Ответ: Переменные."
   ]
  },
  {
   "cell_type": "markdown",
   "metadata": {},
   "source": [
    "# Задание 4.4\n",
    "\n",
    "Сколько будет ограничений в задаче о назначениях на 4 работы и 4 исполнителя, не считая ограничение $0\\leq x_{ij}\\leq1$?\n",
    "\n",
    "Ответ: 8."
   ]
  },
  {
   "cell_type": "markdown",
   "metadata": {},
   "source": [
    "# Задание 5.1\n",
    "\n",
    "Составьте оптимальный план перевозок, со Склада № 1 и Склада № 2, в три торговых центра, с учётом тарифов, запасов и потребностей, которые указаны в таблице:\n",
    "\n",
    "| |ТЦ1 (110 шт)|ТЦ2 (150 шт)|ТЦ3 (140 шт)|\n",
    "|-|------------|------------|------------|\n",
    "|Склад №1 (180 шт)|2 у.е.|5 у.е|3 у.е|\n",
    "|Склад №2 (220 шт)|7 у.е.|7 у.е.|6 у.е.|\n",
    "\n",
    "Сформулируйте задачу, как задачу линейного программирования, и решите её любым способом (желательно программным).\n",
    "\n",
    "В ответ запишите минимальную суммарную стоимость поставки (с точностью до целых).\n",
    "\n",
    "Составим задачу:\n",
    "\n",
    "$$\n",
    "\\min{\\textrm{r}^\\textrm{T}x},\n",
    "$$\n",
    "где $\\textrm{r}$ - вектор тарифов, $x$ - вектор количества закупок по тарифу\n",
    "\n",
    "Запишем условия задачи:\n",
    "\n",
    "$$\n",
    "\\begin{cases}\n",
    "x \\geq 0\\\\\n",
    "\\sum\\limits_{i=0}^2{x_i} \\leq 180\\\\\n",
    "\\sum\\limits_{i=3}^5{x_i} \\leq 220\\\\\n",
    "x_i+x_{i+3} = a_i,\\ \\ \\ \\ i \\in \\{0,1,2\\},\\ \\ \\ \\ a = \\{110, 150, 140\\}\n",
    "\\end{cases}\n",
    "$$\n",
    "\n",
    "Решим, используя библиотеку cvxpy:"
   ]
  },
  {
   "cell_type": "code",
   "execution_count": 1,
   "metadata": {},
   "outputs": [
    {
     "name": "stdout",
     "output_type": "stream",
     "text": [
      "Ответ: 1900\n"
     ]
    }
   ],
   "source": [
    "import cvxpy\n",
    "import numpy as np\n",
    "\n",
    "# Запишем тарифы, запас и нужды\n",
    "r = np.array([[2,5,3],[7,7,6]])\n",
    "stock = np.array([180,220])\n",
    "need = np.array([110,150,140])\n",
    "\n",
    "# Объявим переменную, которую будем оптимизировать\n",
    "x = cvxpy.Variable(shape=np.shape(r), integer = True)\n",
    "total_value = cvxpy.sum(cvxpy.multiply(r, x))\n",
    "\n",
    "# Создадим строки из единиц размеров матрицы\n",
    "col_n_e = np.array([1]*np.shape(r)[0])\n",
    "row_n_e = np.array([1]*np.shape(r)[1])\n",
    "\n",
    "# Запишем условия\n",
    "x_positive = (x >= 0)\n",
    "sum_cols = (col_n_e @ x == need)\n",
    "sum_rows = (x @ row_n_e.T == stock)\n",
    "\n",
    "constraint = [x_positive, sum_cols, sum_rows]\n",
    "\n",
    "# Создадим и решим задачу оптимизации\n",
    "problem = cvxpy.Problem(cvxpy.Minimize(total_value), constraints=constraint)\n",
    "print('Ответ: {}'.format(round(problem.solve())))"
   ]
  },
  {
   "cell_type": "code",
   "execution_count": 2,
   "metadata": {},
   "outputs": [
    {
     "data": {
      "text/plain": [
       "array([[110.,   0.,  70.],\n",
       "       [  0., 150.,  70.]])"
      ]
     },
     "execution_count": 2,
     "metadata": {},
     "output_type": "execute_result"
    }
   ],
   "source": [
    "x.value"
   ]
  },
  {
   "cell_type": "markdown",
   "metadata": {},
   "source": [
    "# Задание 5.2\n",
    "\n",
    "Решите задачу о назначениях\n",
    "\n",
    "У вас есть $n$ задач и $n$ человек, которые могут их сделать. Каждая задача должна быть сделана одним человеком и каждый должен сделать ровно одну задачу. У человека $i$ задача $j$ будет стоить $c_{ij}$. Вам нужно сделать все задачи как можно дешевле.\n",
    "\n",
    "|             | Задачи |      |      |      |      |      |\n",
    "|-------------|--------|------|------|------|------|------|\n",
    "| Исполнители |        | 1    | 2    | 3    | 4    | 5    |\n",
    "|             | 1      | 1000 | 12   | 10   | 19   | 8    |\n",
    "|             | 2      | 12   | 1000 | 3    | 7    | 2    |\n",
    "|             | 3      | 10   | 3    | 1000 | 6    | 20   |\n",
    "|             | 4      | 19   | 7    | 6    | 1000 | 4    |\n",
    "|             | 5      | 8    | 2    | 20   | 4    | 1000 |\n",
    "\n",
    "В ответ запишите минимальную стоимость.\n",
    "\n",
    "Составим задачу:\n",
    "\n",
    "$$\n",
    "\\min{\\textrm{c}^\\textrm{T}x},\n",
    "$$\n",
    "где $\\textrm{c}$ и $x$ составляют матрицу цен задач в одномерном виде\n",
    "\n",
    "Запишем условия задачи:\n",
    "\n",
    "$$\n",
    "\\begin{cases}\n",
    "x \\geq 0\\\\\n",
    "x \\leq 1\\\\\n",
    "\\forall i \\sum\\limits_{j=0}^4{x_{ij}} = 1\\\\\n",
    "\\forall j \\sum\\limits_{i=0}^4{x_{ij}} = 1\\\\\n",
    "\\end{cases}\n",
    "$$\n",
    "\n",
    "Решим, используя библиотеку cvxpy:"
   ]
  },
  {
   "cell_type": "code",
   "execution_count": 2,
   "metadata": {},
   "outputs": [
    {
     "name": "stdout",
     "output_type": "stream",
     "text": [
      "Ответ: 32\n"
     ]
    }
   ],
   "source": [
    "import cvxpy\n",
    "import numpy as np\n",
    "\n",
    "# Запишем стоимости задач в построчном порядке\n",
    "c = np.array([[1000,12,10,19,8],\n",
    "              [12,1000,3,7,2],\n",
    "              [10,3,1000,6,20],\n",
    "              [19,7,6,1000,4],\n",
    "              [8,2,20,4,1000]])\n",
    "\n",
    "# Объявим переменную, которую будем оптимизировать\n",
    "x = cvxpy.Variable(shape=np.shape(c), integer = True)\n",
    "total_value = cvxpy.sum(cvxpy.multiply(c, x))\n",
    "\n",
    "# Создадим строки из единиц размеров матрицы\n",
    "col_n_e = np.array([1]*np.shape(c)[0])\n",
    "row_n_e = np.array([1]*np.shape(c)[1])\n",
    "\n",
    "# Запишем условия\n",
    "x_positive = (x >= 0)\n",
    "x_10 = (x <= 1)\n",
    "sum_cols = (col_n_e @ x == row_n_e)\n",
    "sum_rows = (x @ row_n_e.T == col_n_e)\n",
    "\n",
    "constraint = [x_positive, x_10, sum_cols, sum_rows]\n",
    "\n",
    "# Создадим и решим задачу оптимизации\n",
    "problem = cvxpy.Problem(cvxpy.Minimize(total_value), constraints=constraint)\n",
    "print('Ответ: {}'.format(round(problem.solve())))"
   ]
  },
  {
   "cell_type": "markdown",
   "metadata": {},
   "source": [
    "# Задача 5.3\n",
    "\n",
    "Необходимо найти кратчайший маршрут из точки $\\textrm{A}$, который проходит через все другие точки и возвращается в $\\textrm{A}$.\n",
    "\n",
    "![Рисунок к задаче 5.3](task53.png)\n",
    "\n",
    "Сформулируйте эту задачу как задачу ЦЛП и решите её.\n",
    "\n",
    "В ответ запишите длину кратчайшего пути:\n",
    "\n",
    "Введем формально $n+1$ город, расположенный там же, где и первый город, т.е. расстояния от $n+1$ города до любого другого, отличного от первого, равны расстояниям от первого города. При этом, если из первого города можно лишь выйти, то в $n+1$ город можно лишь придти.\n",
    "\n",
    "Сформулируем задачу:\n",
    "\n",
    "$$\n",
    "\\min{\\rho^\\textrm{T}x},\n",
    "$$\n",
    "\n",
    "где $\\rho$ - вектор весов (расстояний), $x$ - вектор использования пути\n",
    "\n",
    "Таким образом, сформулируем условия задачи:\n",
    "\n",
    "$$\n",
    "\\begin{cases}\n",
    "\\sum\\limits_{i=0}^nx_{ij} = 1,\\ \\ \\ \\ i\\neq j\\\\\n",
    "\\sum\\limits_{j=0}^nx_{ij} = 1,\\ \\ \\ \\ j\\neq i\\\\\n",
    "u_i-u_j+nx_{ij} \\leq n-1,\\ \\ \\ \\ j \\in \\{2,\\dots,n+1\\},\\ \\ \\ \\ i\\neq{j}\\\\\n",
    "i = 1 \\rightarrow j \\neq n+1\\\\\n",
    "0\\leq u_i\\leq n\\\\\n",
    "x_{in+1}=x_{i1},\\ \\ \\ \\ i\\in\\{2,\\dots,n\\}\n",
    "\\end{cases}\n",
    "$$\n",
    "\n",
    "Составим матрицу длин путей:\n",
    "\n",
    "$$\n",
    "\\begin{pmatrix}\n",
    "0 & 12 & 10 & 19 & 8\\\\\n",
    "12 & 0 & 3 & 7 & 2\\\\\n",
    "10 & 3 & 0 & 6 & 20\\\\\n",
    "19 & 7 & 6 & 0 & 4\\\\\n",
    "8 & 2 & 20 & 4 & 0\n",
    "\\end{pmatrix}\n",
    "$$\n",
    "\n",
    "Решим, используя cvxpy:"
   ]
  },
  {
   "cell_type": "code",
   "execution_count": 3,
   "metadata": {},
   "outputs": [
    {
     "name": "stdout",
     "output_type": "stream",
     "text": [
      "Ответ: 32\n"
     ]
    }
   ],
   "source": [
    "import cvxpy\n",
    "import numpy as np\n",
    "\n",
    "# Запишем стоимости задач в построчном порядке\n",
    "r = np.array([[0, 12, 10, 19, 8],\n",
    "             [12, 0, 3, 7, 2],\n",
    "             [10, 3, 0, 6, 20],\n",
    "             [19, 7, 6, 0, 4],\n",
    "             [8, 2, 20, 4, 0]])\n",
    "n = r.shape[0]\n",
    "\n",
    "# Объявим переменные x и u\n",
    "x = cvxpy.Variable(shape=(n,n), boolean=True) #переменная по х\n",
    "u = cvxpy.Variable(shape=(n))                 #переменная по u\n",
    "total_value = cvxpy.sum(cvxpy.multiply(r, x))\n",
    "\n",
    "# Запишем условия\n",
    "u_constr = [u >= 0, u <= n-1] #                                                       Ограничение на u\n",
    "sum_cols = [(cvxpy.sum(x, axis=0) == 1)] #                                            Ограничение на сумму по столбцам\n",
    "sum_rows = [(cvxpy.sum(x, axis=1) == 1)] #                                            Ограничение на сумму по строкам\n",
    "commutation = [(cvxpy.diag(x) == 0)] #                                                Ограничение на наличие единиц по диагонали\n",
    "partitioning = [u[i] - u[j] + n*x[i, j] <= n-1 for i,j in zip(range(n),range(1,n))] # Ограничение на несвязность\n",
    "\n",
    "constraints = u_constr + sum_cols + sum_rows + commutation + partitioning\n",
    "\n",
    "problem = cvxpy.Problem(cvxpy.Minimize(total_value), constraints=constraints)\n",
    "print('Ответ: {}'.format(round(problem.solve())))"
   ]
  },
  {
   "cell_type": "markdown",
   "metadata": {},
   "source": [
    "# Задание 6.1\n",
    "\n",
    "Что происходит при уменьшении темпа обучения градиентного спуска?\n",
    "\n",
    "Ответ: Скорость сходимости снижается верно."
   ]
  },
  {
   "cell_type": "markdown",
   "metadata": {},
   "source": [
    "# Задание 6.2\n",
    "\n",
    "Сможет ли градиентный спуск найти минимум функции $y=|x|$ ?\n",
    "\n",
    "Ответ: не сможет."
   ]
  },
  {
   "cell_type": "markdown",
   "metadata": {},
   "source": [
    "# Задание 6.3\n",
    "\n",
    "Зачем начинать градиентный спуск с нескольких точек?\n",
    "\n",
    "Ответ: Больше шанс сойтись в глобальный минимум."
   ]
  },
  {
   "cell_type": "markdown",
   "metadata": {},
   "source": [
    "# Задание 6.4\n",
    "\n",
    "Что из этого нужно уметь вычислять для программной реализации градиентного спуска?\n",
    "\n",
    "Ответ: Градиент функции в точке."
   ]
  },
  {
   "cell_type": "markdown",
   "metadata": {},
   "source": [
    "# Задание 6.5\n",
    "\n",
    "Напишите следующую точку градиентного спуска для функции $f(x, y, z) = 2x^2 -4xz + 4y^2 - 8yz + 9z^2 +4x + 8y - 20z$\n",
    "\n",
    "Посчитаем градиент функции:\n",
    "\n",
    "$$\n",
    "\\vec\\nabla f(x, y, z) = \n",
    "\\begin{pmatrix}\n",
    "4x - 4z +4\\\\\n",
    "8y - 8z +8\\\\\n",
    "-4x -8y +18z -20\n",
    "\\end{pmatrix}\n",
    "$$\n",
    "\n",
    "В точке $(0,0,0)$ градиент:\n",
    "\n",
    "$$\n",
    "\\vec\\nabla f(0, 0, 0) = \n",
    "\\begin{pmatrix}\n",
    "4\\\\\n",
    "8\\\\\n",
    "-20\n",
    "\\end{pmatrix}\n",
    "$$\n",
    "\n",
    "Тогда следущая точка:\n",
    "\n",
    "$$\n",
    "\\begin{pmatrix}\n",
    "x_1\\\\\n",
    "y_1\\\\\n",
    "z_1\\\\\n",
    "\\end{pmatrix}\n",
    "=\n",
    "\\begin{pmatrix}\n",
    "x_0\\\\\n",
    "y_0\\\\\n",
    "z_0\n",
    "\\end{pmatrix}\n",
    "-\n",
    "\\gamma\\vec\\nabla f(x_0, y_0, z_0)\n",
    "=\n",
    "\\begin{pmatrix}\n",
    "0\\\\\n",
    "0\\\\\n",
    "0\n",
    "\\end{pmatrix}\n",
    "-\n",
    "\\dfrac{1}{4}\n",
    "\\begin{pmatrix}\n",
    "4\\\\\n",
    "8\\\\\n",
    "-20\n",
    "\\end{pmatrix}\n",
    "=\n",
    "\\begin{pmatrix}\n",
    "-1\\\\\n",
    "-2\\\\\n",
    "5\n",
    "\\end{pmatrix}\n",
    "$$\n",
    "\n",
    "Ответ: $(-1,-2,5)$"
   ]
  },
  {
   "cell_type": "markdown",
   "metadata": {},
   "source": [
    "# Задание 7.1\n",
    "\n",
    "Найдите градиентным спуском минимум функции $f(x,y) = 2x^2-4xy+y^4+2$\n",
    "\n",
    "Решим, используя scipy.optimize.minimize:"
   ]
  },
  {
   "cell_type": "code",
   "execution_count": 4,
   "metadata": {},
   "outputs": [
    {
     "name": "stdout",
     "output_type": "stream",
     "text": [
      "Ответ: 1\n"
     ]
    }
   ],
   "source": [
    "# Объявим функцию:\n",
    "def f(x,y):\n",
    "    return 2*x**2 - 4*x*y + y**4 + 2\n",
    "\n",
    "# Запустим градиентный спуск\n",
    "from scipy.optimize import minimize\n",
    "print('Ответ: {}'.format(round(minimize(lambda x: f(*x), x0=(5,0))['fun'])))"
   ]
  },
  {
   "cell_type": "markdown",
   "metadata": {},
   "source": [
    "# Задание 7.2\n",
    "\n",
    "Обучите линейную регрессию из Задачи 3.7.3 при помощи градиентного спуска. Чему равно оптимальное значение $L^2$?\n",
    "\n",
    "Функция выглядит так:\n",
    "\n",
    "$$\n",
    "L^2 = (2.1 -\\omega_0 - \\omega_1)^2 + (2.9 - \\omega_0 - 3\\omega_1)^2 + (4.1 - \\omega_0 - 5\\omega_1)^2\n",
    "$$\n",
    "\n",
    "Решим задачу:"
   ]
  },
  {
   "cell_type": "code",
   "execution_count": 5,
   "metadata": {},
   "outputs": [
    {
     "name": "stdout",
     "output_type": "stream",
     "text": [
      "Ответ: 0\n"
     ]
    }
   ],
   "source": [
    "# Объявим функцию:\n",
    "def L2(w0,w1):\n",
    "    return (2.1-w0-w1)**2 + (2.9-w0-3*w1)**2 + (4.1-w0-5*w1)**2\n",
    "\n",
    "# Запустим градиентный спуск\n",
    "from scipy.optimize import minimize\n",
    "print('Ответ: {}'.format(round(minimize(lambda x: L2(*x), x0=(0,0))['fun'])))"
   ]
  },
  {
   "cell_type": "markdown",
   "metadata": {},
   "source": [
    "# Задание 7.3\n",
    "\n",
    "Найдите градиентным спуском минимум функции $f(x,y,z) = x^3-2x^2+y^2+z^2-2xy+xz-yz+3z$."
   ]
  },
  {
   "cell_type": "code",
   "execution_count": 6,
   "metadata": {},
   "outputs": [
    {
     "name": "stdout",
     "output_type": "stream",
     "text": [
      "Ответ: -7\n"
     ]
    }
   ],
   "source": [
    "# Объявим функцию:\n",
    "def f(x,y,z):\n",
    "    return x**3-2*x**2+y**2+z**2-2*x*y+x*z-y*z+3*z\n",
    "\n",
    "# Запустим градиентный спуск\n",
    "from scipy.optimize import minimize\n",
    "print('Ответ: {}'.format(round(minimize(lambda x: f(*x), x0=(0,0,0))['fun'])))"
   ]
  },
  {
   "cell_type": "markdown",
   "metadata": {},
   "source": [
    "# Задание 8.1\n",
    "\n",
    "За счёт чего градиентный спуск с momentum лучше работает?\n",
    "\n",
    "Ответ: Использует информацию с предыдущих шагов."
   ]
  },
  {
   "cell_type": "markdown",
   "metadata": {},
   "source": [
    "# Задание 8.2\n",
    "\n",
    "Напишите следующую точку градиентного спуска с momentum для функции\n",
    "\n",
    "$f(x,y,z) = 2x^2 - 4xz + 4y^2 - 8yz + 9z^2 + 4x + 8y - 20z$, если текущая точка - $(1,2,-5)$, перед ней была $(0,0,0)$, $\\gamma=0.25$, $\\alpha=1$.\n",
    "\n",
    "Посчитаем градиент функции в произвольной точке:\n",
    "\n",
    "$$\n",
    "\\vec\\nabla f(x, y, z) = \n",
    "\\begin{pmatrix}\n",
    "4x - 4z +4\\\\\n",
    "8y - 8z +8\\\\\n",
    "-4x -8y +18z -20\n",
    "\\end{pmatrix}\n",
    "$$\n",
    "\n",
    "В точке $(1,2,-5)$ градиент:\n",
    "\n",
    "\n",
    "$$\n",
    "\\vec\\nabla f(1, 2, -5) = \n",
    "\\begin{pmatrix}\n",
    "28\\\\\n",
    "64\\\\\n",
    "-130\n",
    "\\end{pmatrix}\n",
    "$$\n",
    "\n",
    "Таким образом, следущая точка:\n",
    "\n",
    "$$\n",
    "\\begin{pmatrix}\n",
    "x_2\\\\\n",
    "y_2\\\\\n",
    "z_2\\\\\n",
    "\\end{pmatrix}\n",
    "=\n",
    "\\begin{pmatrix}\n",
    "x_1\\\\\n",
    "y_1\\\\\n",
    "z_1\n",
    "\\end{pmatrix}\n",
    "-\n",
    "\\gamma\\vec\\nabla f(x_1, y_1, z_1)\n",
    "+\n",
    "\\alpha\\begin{pmatrix}\n",
    "x_1\\\\\n",
    "y_1\\\\\n",
    "z_1\\\\\n",
    "\\end{pmatrix}\n",
    "-\n",
    "\\alpha\\begin{pmatrix}\n",
    "x_0\\\\\n",
    "y_0\\\\\n",
    "z_0\\\\\n",
    "\\end{pmatrix}\n",
    "=\n",
    "\\begin{pmatrix}\n",
    "1\\\\\n",
    "2\\\\\n",
    "-5\n",
    "\\end{pmatrix}\n",
    "-\n",
    "\\dfrac{1}{4}\n",
    "\\begin{pmatrix}\n",
    "28\\\\\n",
    "64\\\\\n",
    "-130\n",
    "\\end{pmatrix}\n",
    "+\n",
    "\\begin{pmatrix}\n",
    "1\\\\\n",
    "2\\\\\n",
    "-5\n",
    "\\end{pmatrix}\n",
    "=\n",
    "\\begin{pmatrix}\n",
    "-5\\\\\n",
    "-12\\\\\n",
    "22.5\n",
    "\\end{pmatrix}\n",
    "$$\n",
    "\n",
    "\n",
    "Ответ: $(-5,-12,22.5)$"
   ]
  },
  {
   "cell_type": "markdown",
   "metadata": {},
   "source": [
    "# Задание 9.1\n",
    "\n",
    "На рисунке изображён график функции $f(x)$. Какая точка будет следующей после $x_0$ в методе Ньютона для поиска решения уравнения $f(x) =0$?\n",
    "\n",
    "![График к заданию 9.1](task91.png)\n",
    "\n",
    "Ответ: $x_2$"
   ]
  },
  {
   "cell_type": "markdown",
   "metadata": {},
   "source": [
    "# Задание 9.2\n",
    "\n",
    "Что из этого является минусами метода Ньютона относительно градиентного спуска?\n",
    "\n",
    "Методу Ньютона нужно чтобы функция была дважды дифференцируема\n",
    "\n",
    "Обычно долго считать обратную матрицу Гессе"
   ]
  },
  {
   "cell_type": "markdown",
   "metadata": {},
   "source": [
    "# Задание 9.3\n",
    "\n",
    "Сможет ли метод Ньютона найти минимум функции $y=|x|$?\n",
    "\n",
    "Ответ: нет."
   ]
  },
  {
   "cell_type": "markdown",
   "metadata": {},
   "source": [
    "# Задание 9.4\n",
    "\n",
    "Найдите следующий шаг метода Ньютона для функции $f(x,y) = x^2 + xy - 2x + 3y - 1$, если текущая точка $(0,1)$.\n",
    "\n",
    "Посчитаем обратный Гессиан функции:\n",
    "\n",
    "$$\n",
    "H^{-1}(f(x,y)) = \n",
    "\\begin{pmatrix}\n",
    "\\dfrac{\\partial^2 f(x,y)}{\\partial x^2} & \\dfrac{\\partial^2 f(x,y)}{\\partial x \\partial y}\\\\\n",
    "\\dfrac{\\partial^2 f(x,y)}{\\partial y \\partial x} &\n",
    "\\dfrac{\\partial^2 f(x,y)}{\\partial y^2}\n",
    "\\end{pmatrix}^{-1}\n",
    "=\n",
    "\\begin{pmatrix}\n",
    "2 & 1\\\\\n",
    "1 & 0\n",
    "\\end{pmatrix}^{-1}\n",
    "=\n",
    "\\begin{pmatrix}\n",
    "0 & 1\\\\\n",
    "1 & -2\n",
    "\\end{pmatrix}\n",
    "$$\n",
    "\n",
    "Посчитаем градиент функции:\n",
    "\n",
    "$$\n",
    "\\vec\\nabla f(x,y) = \n",
    "\\begin{pmatrix}\n",
    "2x + y - 2\\\\\n",
    "x + 3\n",
    "\\end{pmatrix}\n",
    "$$\n",
    "\n",
    "Тогда следущая точка:\n",
    "\n",
    "$$\n",
    "\\begin{pmatrix}\n",
    "x_1\\\\\n",
    "y_1\n",
    "\\end{pmatrix}\n",
    "=\n",
    "\\begin{pmatrix}\n",
    "x_0\\\\\n",
    "y_0\n",
    "\\end{pmatrix}\n",
    "-\n",
    "H^{-1}(f(x_0,y_0))\\vec\\nabla f(x_0,y_0)\n",
    "=\n",
    "\\begin{pmatrix}\n",
    "0\\\\\n",
    "1\n",
    "\\end{pmatrix}\n",
    "-\n",
    "\\begin{pmatrix}\n",
    "0 & 1\\\\\n",
    "1 & -2\n",
    "\\end{pmatrix}\n",
    "\\begin{pmatrix}\n",
    "-1\\\\\n",
    "3\n",
    "\\end{pmatrix}\n",
    "=\n",
    "\\begin{pmatrix}\n",
    "-3\\\\\n",
    "8\n",
    "\\end{pmatrix}\n",
    "$$"
   ]
  },
  {
   "cell_type": "markdown",
   "metadata": {},
   "source": [
    "# Задание 10.1\n",
    "\n",
    "Укажите все верные утверждения.\n",
    "\n",
    "Ответ: Метод отжига можно применять, даже если x принимает только натуральные значения."
   ]
  },
  {
   "cell_type": "markdown",
   "metadata": {},
   "source": [
    "# Задание 10.2\n",
    "\n",
    "Что из этого может подойти как $c_k$ для метода отжига?\n",
    "\n",
    "$$\n",
    "c_k = \\frac{1}{k}\\\\\n",
    "c_k = e^{-k}\n",
    "$$"
   ]
  },
  {
   "cell_type": "markdown",
   "metadata": {},
   "source": [
    "# Задание 11.1\n",
    "\n",
    "Какой алгоритм лучше использовать при минимизации функции $x^4-2x^3y+3x^2y^2-4x^2+y$ при условии, что $x+y<20$?\n",
    "\n",
    "Ответ: Метод множителей Лагранжа."
   ]
  },
  {
   "cell_type": "markdown",
   "metadata": {},
   "source": [
    "# Задание 11.2\n",
    "\n",
    "Какой алгоритм лучше использовать при минимизации функции потерь линейной регрессии на $1000$ параметров?\n",
    "\n",
    "Ответ: Градиентный спуск."
   ]
  },
  {
   "cell_type": "markdown",
   "metadata": {},
   "source": [
    "# Задание 11.3\n",
    "\n",
    "Какой алгоритм лучше использовать, чтобы найти минимум функции $(5-x)^2 + 20(y-x^2)^2$?\n",
    "\n",
    "Ответ: Метод Ньютона."
   ]
  },
  {
   "cell_type": "markdown",
   "metadata": {},
   "source": [
    "# Задание 11.4\n",
    "\n",
    "Какой алгоритм лучше использовать при минимизации функции $2x^2-4xz+4y^2-8yz+9z^2+4x+8y-20z$, если $x$, $y$, $z$ натуральные и меньше $1000$?\n",
    "\n",
    "Ответ: Метод отжига."
   ]
  }
 ],
 "metadata": {
  "kernelspec": {
   "display_name": "Python 3",
   "language": "python",
   "name": "python3"
  },
  "language_info": {
   "codemirror_mode": {
    "name": "ipython",
    "version": 3
   },
   "file_extension": ".py",
   "mimetype": "text/x-python",
   "name": "python",
   "nbconvert_exporter": "python",
   "pygments_lexer": "ipython3",
   "version": "3.8.6"
  }
 },
 "nbformat": 4,
 "nbformat_minor": 4
}
