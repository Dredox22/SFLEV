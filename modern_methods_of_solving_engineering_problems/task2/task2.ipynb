{
 "cells": [
  {
   "cell_type": "markdown",
   "metadata": {},
   "source": [
    "# 1. Проблема\n",
    "\n",
    "![task2](task2.jpeg)"
   ]
  },
  {
   "cell_type": "markdown",
   "metadata": {},
   "source": [
    "# 2. Содержательная постановка\n",
    "\n",
    "Необходимо определить процентный состав шихты для выплавки стали, нормированной по ГОСТ'у и обладающей минимальной стоимостью материалов."
   ]
  },
  {
   "cell_type": "markdown",
   "metadata": {},
   "source": [
    "# 3. Формальная постановка\n",
    "\n",
    "Пусть \n",
    "\n",
    "- $X = x_1,x_2,x_3$ - пространство долей компонентов шихты для выплавки стали.\n",
    "\n",
    "- $C = c_1,c_2,c_3$ - пространство весов (цен) компонентов шихты для выплавки стали.\n",
    "\n",
    "Задача:\n",
    "\n",
    "$$\n",
    "(C,X) = \\sum\\limits_{i=1}^3c_ix_i = c_1x_1 + c_2x_2 + c_3x_3 \\rightarrow \\min_{x_1+x_2+x_3 = 1}\n",
    "$$\n",
    "\n",
    "Ограничения нормированности по ГОСТу (условия):\n",
    "\n",
    "$\n",
    "0.15x_1 + 0.15x_2 + 0.17x_3 \\geq 0.16\n",
    "$\n",
    "\n",
    "$\n",
    "0.15x_1 + 0.15x_2 + 0.17x_3 \\leq 0.18\n",
    "$\n",
    "\n",
    "$\n",
    "0.10x_1 + 0.08x_2 + 0.09x_3 \\leq 0.09\n",
    "$\n",
    "\n",
    "$\n",
    "0.007x_1 + 0.003x_2 + 0.005x_3 \\leq 0.005\n",
    "$\n",
    "\n",
    "$\n",
    "0 \\leq x \\leq 1\n",
    "$"
   ]
  },
  {
   "cell_type": "markdown",
   "metadata": {},
   "source": [
    "# 4. Алгоритм и ПО\n",
    "\n",
    "В качестве ПО будем использовать ЯП **Python** с подключенными модулями:\n",
    "\n",
    "- **numpy** - для работы с линейной алгеброй\n",
    "\n",
    "- **cvxpy** - для работы с линейным программированием\n",
    "\n",
    "В качестве среды разработки **Jupyter Lab**,"
   ]
  },
  {
   "cell_type": "markdown",
   "metadata": {},
   "source": [
    "# 5. Решение задачи\n",
    "\n",
    "Приведем решение задачи с применением выбранного алгоритма."
   ]
  },
  {
   "cell_type": "code",
   "execution_count": null,
   "metadata": {},
   "outputs": [],
   "source": [
    "def optimal_receipt(c, A, b=[0.16, 0.18, 0.09, 0.005], cost_accuracy=None, percentage_accuracy=3):\n",
    "    '''\n",
    "    Функция, возвращающая оптимальные\n",
    "    доли материалов шихты\n",
    "    \n",
    "    c - список \n",
    "    стоимостей материалов\n",
    "    \n",
    "    A - 2D-список \n",
    "    составов материалов\n",
    "    \n",
    "    b - список\n",
    "    значений по ГОСТ'у\n",
    "    (по умолчанию, как в задаче)\n",
    "    \n",
    "    cost_accuracy - целое число\n",
    "    знаков после запятой стоимости за тонну\n",
    "    (по умолчанию None - до целого числа)\n",
    "    \n",
    "    percentage_accuracy - целое число\n",
    "    знаков после запятой значений оптимальных долей \n",
    "    (по умолчанию 3)\n",
    "    '''\n",
    "    \n",
    "    import cvxpy\n",
    "    import numpy as np\n",
    "    from warnings import warn\n",
    "    \n",
    "    for i in c:\n",
    "        if i < 0:\n",
    "            raise Exception('Значение стоимости не может быть отрицательным')\n",
    "    for i in A:\n",
    "        for j in i:\n",
    "            if j < 0:\n",
    "                raise Exception('Значение состава материала не может быть отрицательным')\n",
    "    for i in b:\n",
    "        if i < 0:\n",
    "            warn('Значение ограничения отрицательное, возможны проблемы!')\n",
    "    \n",
    "    c = np.array(c)\n",
    "    A = np.array(A)\n",
    "    b = np.array(b)\n",
    "\n",
    "    x = cvxpy.Variable(shape=len(c), integer = False)\n",
    "    \n",
    "    constraints = [(A[0,:] @ x >= b[0]),\n",
    "                   (A[0,:] @ x <= b[1]),\n",
    "                   (A[1,:] @ x <= b[2]),\n",
    "                   (A[2,:] @ x <= b[3]),\n",
    "                   (sum(x) == 1),\n",
    "                   (x >= 0)]\n",
    "               \n",
    "    total_value = c @ x\n",
    "    problem = cvxpy.Problem(cvxpy.Minimize(total_value), constraints=constraints)\n",
    "    \n",
    "    try:\n",
    "        print('Стоимость тонны: %s' %round(problem.solve(), cost_accuracy))\n",
    "    except:\n",
    "        print('Нет решения по ГОСТ\\'у.')\n",
    "        return\n",
    "    print('Доли материалов: {} : {} : {}.'.format(abs(round(x.value[0],percentage_accuracy)),\n",
    "                                                  abs(round(x.value[1],percentage_accuracy)),\n",
    "                                                  abs(round(x.value[2],percentage_accuracy))))\n",
    "    return x.value"
   ]
  },
  {
   "cell_type": "markdown",
   "metadata": {},
   "source": [
    "# 6. Анализ\n",
    "\n",
    "Запустим функцию на реальных данных:"
   ]
  },
  {
   "cell_type": "code",
   "execution_count": 2,
   "metadata": {},
   "outputs": [
    {
     "name": "stdout",
     "output_type": "stream",
     "text": [
      "Стоимость тонны: 150\n",
      "Доли материалов: 0.0 : 0.0 : 1.0.\n"
     ]
    }
   ],
   "source": [
    "c = [300,200,150]\n",
    "\n",
    "A = [[0.15,0.15,0.17],\n",
    "     [0.1,0.08,0.09],\n",
    "     [0.007,0.003,0.005]]\n",
    "\n",
    "optimal_receipt(c, A);"
   ]
  },
  {
   "cell_type": "markdown",
   "metadata": {},
   "source": [
    "Получаем ожидаемый ответ: использовать только последний вариант.\n",
    "Изначально было видно, что этот вариант самый дешевый, и при этом полностью удовлетворяет ограничениям по ГОСТу."
   ]
  },
  {
   "cell_type": "code",
   "execution_count": 5,
   "metadata": {},
   "outputs": [
    {
     "name": "stdout",
     "output_type": "stream",
     "text": [
      "Стоимость тонны: 203\n",
      "Доли материалов: 0.182 : 0.515 : 0.303.\n"
     ]
    }
   ],
   "source": [
    "c = [300,200,150]\n",
    "\n",
    "A = [[0.14,0.2,0.17],\n",
    "     [0.08,0.05,0.12],\n",
    "     [0.004,0.003,0.009]]\n",
    "\n",
    "optimal_receipt(c, A);"
   ]
  }
 ],
 "metadata": {
  "kernelspec": {
   "display_name": "Python 3",
   "language": "python",
   "name": "python3"
  },
  "language_info": {
   "codemirror_mode": {
    "name": "ipython",
    "version": 3
   },
   "file_extension": ".py",
   "mimetype": "text/x-python",
   "name": "python",
   "nbconvert_exporter": "python",
   "pygments_lexer": "ipython3",
   "version": "3.8.6"
  }
 },
 "nbformat": 4,
 "nbformat_minor": 4
}
