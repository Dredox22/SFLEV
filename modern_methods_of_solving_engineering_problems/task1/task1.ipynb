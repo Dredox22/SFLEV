{
 "cells": [
  {
   "cell_type": "markdown",
   "metadata": {},
   "source": [
    "# 1. Проблема\n",
    "\n",
    "![task1](task1.png)"
   ]
  },
  {
   "cell_type": "markdown",
   "metadata": {},
   "source": [
    "# 2. Содержательная постановка\n",
    "\n",
    "Необходимо посчитать сопротивление, при котором обеспечивается совпадение экспериментальных результатов с теоретическими по модели закона Ома."
   ]
  },
  {
   "cell_type": "markdown",
   "metadata": {},
   "source": [
    "# 3. Формальная постановка\n",
    "\n",
    "Пусть \n",
    "\n",
    "- $X = \\{X_1,X_2,\\dots,X_n\\}$ - пространство зафиксированных (подаваемых) значений (напряжение на участке цепи).\n",
    "\n",
    "- $y = \\{y_1,y_2,\\dots,y_n\\} $ - простраство случайных (измеренных) значений (сила тока в участке цепи).\n",
    "\n",
    "- $w = \\dfrac{1}{R}$ - коэффициент пропорциональности (проводимость)\n",
    "\n",
    "Задача:\n",
    "\n",
    "$$\n",
    "\\textrm{MSE} \\rightarrow \\min\n",
    "$$\n",
    "\n",
    "Условия:\n",
    "\n",
    "$$\n",
    "U_n > 0\\\\\n",
    "I_n > 0\\\\\n",
    "w > 0\n",
    "$$\n"
   ]
  },
  {
   "cell_type": "markdown",
   "metadata": {},
   "source": [
    "# 4. Алгоритм и ПО\n",
    "\n",
    "Мы предполагаем, что согласно закону Ома для участка цепи ($I = \\frac{U}{R}$) истинная связь между $U$ и $I$ является линейной, плюс некоторая случайная ошибка:\n",
    "\n",
    "$$\n",
    "y_i = f(w,X_i)+\\varepsilon_i\n",
    "$$\n",
    "\n",
    "В данном случае в качестве веса будет выступать проводимость $\\dfrac{1}{R}$.\n",
    "\n",
    "Проверку состоятельности модели закона Ома будем проводить рассчитывая коэффициент детерминации $\\mathbf{R}^2$. \n",
    "\n",
    "Если $\\mathbf{R}^2$ выше $50$%, то модель будем считать приемлемой.\n",
    "\n",
    "Если $\\mathbf{R}^2$ выше $80$%, то модель будем считать хорошей.\n",
    "\n",
    "В качестве алгоритма будем использовать МНК. Выбор обусловлен тем, что МНК в случае нормального распределения ошибки эксперимента обеспечивает максимальную вероятность повторения результатов опыта на модели.\n",
    "\n",
    "В качестве ПО будем использовать ЯП python, с подключенными модулями:\n",
    "\n",
    "- numpy - для работы с линейной алгеброй\n",
    "\n",
    "- sklearn - для линейной регрессии\n",
    "\n",
    "- seaborn - для построения графиков"
   ]
  },
  {
   "cell_type": "markdown",
   "metadata": {},
   "source": [
    "# 5. Решение задачи\n",
    "\n",
    "Приведем решение задачи с применением выбранного алгоритма."
   ]
  },
  {
   "cell_type": "markdown",
   "metadata": {},
   "source": [
    "Функция, оценивающая качество модели:"
   ]
  },
  {
   "cell_type": "code",
   "execution_count": 7,
   "metadata": {},
   "outputs": [],
   "source": [
    "def is_ok(R, R_acceptable=0.5, R_good=0.8):\n",
    "    '''\n",
    "    Хорошая ли модель\n",
    "    \n",
    "    Функция оценивает качество модели\n",
    "    \n",
    "    R - значение коэффициента детерминации,\n",
    "    на основе которого принимается решение\n",
    "    \n",
    "    R_acceptable - нижний порог\n",
    "    (ниже - модель непримемлема)\n",
    "    \n",
    "    R_good - верхний порог\n",
    "    (выше - модель хорошая)\n",
    "    '''\n",
    "    \n",
    "    if R >= R_good:\n",
    "        print('Модель хорошая. Закон Ома выполняется')\n",
    "    elif R >= R_acceptable:\n",
    "        print('Модель приемлемая. Закон Ома выполняется')\n",
    "    else:\n",
    "        print('Модель непримемлемая. Закон Ома не выполняется')"
   ]
  },
  {
   "cell_type": "markdown",
   "metadata": {},
   "source": [
    "Вызываемая функция:"
   ]
  },
  {
   "cell_type": "code",
   "execution_count": 8,
   "metadata": {},
   "outputs": [],
   "source": [
    "def get_r_sq(y, X, not_from_zero=False):\n",
    "    '''\n",
    "    Получить коэффициент детерминации\n",
    "    \n",
    "    Функция возвращает значение\n",
    "    коэффициента детерминации,\n",
    "    проводимости, сопротивления.\n",
    "    Также строит график и оценивает\n",
    "    качество модели.\n",
    "    В качестве модели исользуется\n",
    "    линейная регрессия МНК.\n",
    "    \n",
    "    y - список значений \n",
    "    фиксированного параметра\n",
    "    (напряжение)\n",
    "    \n",
    "    X - список значений \n",
    "    измеренного параметра\n",
    "    (сила тока)\n",
    "    \n",
    "    not_from_zero - булева переменная,\n",
    "    из нуля ли идет график\n",
    "    (по умолчанию - да)\n",
    "    '''\n",
    "    \n",
    "    import numpy as np\n",
    "    from sklearn.linear_model import LinearRegression\n",
    "    import seaborn as sns\n",
    "    from matplotlib.pyplot import show\n",
    "    \n",
    "    X = np.array(X)\n",
    "    y = np.array(y).reshape((-1, 1))\n",
    "\n",
    "    model = LinearRegression(fit_intercept = not_from_zero).fit(y, X)\n",
    "\n",
    "    R = model.score(y, X)\n",
    "    w = model.coef_\n",
    "\n",
    "    print('Коэффициент детерминации:', R)\n",
    "    print('Проводимость:', w[0])\n",
    "    print('Сопротивление:', 1/w[0])\n",
    "    \n",
    "    if not_from_zero:\n",
    "        print('Отступ:', model.intercept_)\n",
    "    \n",
    "    sns.regplot(x=X, y=y)\n",
    "    show()\n",
    "    \n",
    "    return is_ok(R)"
   ]
  },
  {
   "cell_type": "markdown",
   "metadata": {},
   "source": [
    "# 6. Анализ\n",
    "\n",
    "Проведем анализ результатов:"
   ]
  },
  {
   "cell_type": "markdown",
   "metadata": {},
   "source": [
    "Сгенерируем данные:"
   ]
  },
  {
   "cell_type": "code",
   "execution_count": 17,
   "metadata": {},
   "outputs": [],
   "source": [
    "import numpy as np\n",
    "import random\n",
    "\n",
    "U = [0, 5, 15, 25, 35, 45, 55] # В\n",
    "\n",
    "R = 222 # Ом\n",
    "\n",
    "I = [u/R + random.uniform(-0.01,0.01) for u in U]"
   ]
  },
  {
   "cell_type": "markdown",
   "metadata": {},
   "source": [
    "Применим к данным нашу модель и получим анализ результатов"
   ]
  },
  {
   "cell_type": "code",
   "execution_count": 18,
   "metadata": {},
   "outputs": [
    {
     "name": "stdout",
     "output_type": "stream",
     "text": [
      "Коэффициент детерминации: 0.9937503992318009\n",
      "Проводимость: 0.004496568730103942\n",
      "Сопротивление: 222.39179695066824\n"
     ]
    },
    {
     "data": {
      "image/png": "[encoded data removed]",
      "text/plain": [
       "<Figure size 432x288 with 1 Axes>"
      ]
     },
     "metadata": {
      "needs_background": "light"
     },
     "output_type": "display_data"
    },
    {
     "name": "stdout",
     "output_type": "stream",
     "text": [
      "Модель хорошая. Закон Ома выполняется\n"
     ]
    }
   ],
   "source": [
    "get_r_sq(U, I)"
   ]
  },
  {
   "cell_type": "markdown",
   "metadata": {},
   "source": [
    "Сопротивления совпадают."
   ]
  }
 ],
 "metadata": {
  "kernelspec": {
   "display_name": "Python 3",
   "language": "python",
   "name": "python3"
  },
  "language_info": {
   "codemirror_mode": {
    "name": "ipython",
    "version": 3
   },
   "file_extension": ".py",
   "mimetype": "text/x-python",
   "name": "python",
   "nbconvert_exporter": "python",
   "pygments_lexer": "ipython3",
   "version": "3.8.6"
  }
 },
 "nbformat": 4,
 "nbformat_minor": 4
}
