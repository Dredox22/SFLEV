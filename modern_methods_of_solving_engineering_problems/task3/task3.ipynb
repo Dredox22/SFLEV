{
 "cells": [
  {
   "cell_type": "markdown",
   "metadata": {},
   "source": [
    "# 1. Проблема\n",
    "\n",
    "![task3](task3.jpeg)"
   ]
  },
  {
   "cell_type": "markdown",
   "metadata": {},
   "source": [
    "# 2. Содержательная постановка\n",
    "\n",
    "Необходимо определить процентный состав шихты для выплавки стали, нормированной по ГОСТу и обладающей минимальной стоимостью материалов с учетом ограничений на количество материалов."
   ]
  },
  {
   "cell_type": "markdown",
   "metadata": {},
   "source": [
    "# 3. Формальная постановка\n",
    "\n",
    "Пусть \n",
    "\n",
    "- $X = x_1,x_2,x_3$ - пространство долей компонентов шихты для выплавки стали.\n",
    "\n",
    "- $C = c_1,c_2,c_3$ - пространство весов (цен) компонентов шихты для выплавки стали.\n",
    "\n",
    "Задача:\n",
    "\n",
    "$$\n",
    "(C,X) = \\sum\\limits_{i=1}^3c_ix_i = c_1x_1 + c_2x_2 + c_3x_3 \\rightarrow \\min_{x_1+x_2+x_3 = 200}\n",
    "$$\n",
    "\n",
    "Ограничения нормированности по ГОСТу (условия):\n",
    "\n",
    "$\n",
    "0.15x_1 + 0.15x_2 + 0.17x_3 \\geq 0.16\n",
    "$\n",
    "\n",
    "$\n",
    "0.15x_1 + 0.15x_2 + 0.17x_3 \\leq 0.18\n",
    "$\n",
    "\n",
    "$\n",
    "0.10x_1 + 0.08x_2 + 0.09x_3 \\leq 0.09\n",
    "$\n",
    "\n",
    "$\n",
    "0.007x_1 + 0.003x_2 + 0.005x_3 \\leq 0.005\n",
    "$\n",
    "\n",
    "$\n",
    "0 \\leq x\n",
    "$\n",
    "\n",
    "Ограничения на количество материалов:\n",
    "\n",
    "$\n",
    "x_1 \\leq 150\\\\\n",
    "x_2 \\leq 100\\\\\n",
    "x_3 \\leq 75\n",
    "$"
   ]
  },
  {
   "cell_type": "markdown",
   "metadata": {},
   "source": [
    "# 4. Алгоритм и ПО\n",
    "\n",
    "В качестве ПО будем использовать ЯП **Python** с подключенными модулями:\n",
    "\n",
    "- **numpy** - для работы с линейной алгеброй\n",
    "\n",
    "- **cvxpy** - для работы с линейным программированием\n",
    "\n",
    "В качестве среды разработки **Jupyter Lab**,"
   ]
  },
  {
   "cell_type": "markdown",
   "metadata": {},
   "source": [
    "# 5. Решение задачи\n",
    "\n",
    "Приведем решение задачи с применением выбранного алгоритма."
   ]
  },
  {
   "cell_type": "markdown",
   "metadata": {},
   "source": [
    "Возьмем функцию из прошлой задачи:"
   ]
  },
  {
   "cell_type": "code",
   "execution_count": 1,
   "metadata": {},
   "outputs": [],
   "source": [
    "def optimal_receipt(c, A, b=[0.16, 0.18, 0.09, 0.005], cost_accuracy=None, percentage_accuracy=3):\n",
    "    '''\n",
    "    Функция, возвращающая оптимальные\n",
    "    доли материалов шихты\n",
    "    \n",
    "    c - список \n",
    "    стоимостей материалов\n",
    "    \n",
    "    A - 2D-список \n",
    "    составов материалов\n",
    "    \n",
    "    b - список\n",
    "    значений по ГОСТ'у\n",
    "    (по умолчанию, как в задаче)\n",
    "    \n",
    "    cost_accuracy - целое число\n",
    "    знаков после запятой стоимости за тонну\n",
    "    (по умолчанию None - до целого числа)\n",
    "    \n",
    "    percentage_accuracy - целое число\n",
    "    знаков после запятой значений оптимальных долей \n",
    "    (по умолчанию 3)\n",
    "    '''\n",
    "    \n",
    "    import cvxpy\n",
    "    import numpy as np\n",
    "    from warnings import warn\n",
    "    \n",
    "    for i in c:\n",
    "        if i < 0:\n",
    "            raise Exception('Значение стоимости не может быть отрицательным')\n",
    "    for i in A:\n",
    "        for j in i:\n",
    "            if j < 0:\n",
    "                raise Exception('Значение состава материала не может быть отрицательным')\n",
    "    for i in b:\n",
    "        if i < 0:\n",
    "            warn('Значение ограничения отрицательное, возможны проблемы!')\n",
    "    \n",
    "    c = np.array(c)\n",
    "    A = np.array(A)\n",
    "    b = np.array(b)\n",
    "\n",
    "    x = cvxpy.Variable(shape=len(c), integer = False)\n",
    "    \n",
    "    constraints = [(A[0,:] @ x >= b[0]),\n",
    "                   (A[0,:] @ x <= b[1]),\n",
    "                   (A[1,:] @ x <= b[2]),\n",
    "                   (A[2,:] @ x <= b[3]),\n",
    "                   (sum(x) == 1),\n",
    "                   (x >= 0)]\n",
    "               \n",
    "    total_value = c @ x\n",
    "    problem = cvxpy.Problem(cvxpy.Minimize(total_value), constraints=constraints)\n",
    "    \n",
    "    try:\n",
    "        print('Оптимальная стоимость тонны: %s' %round(problem.solve(), cost_accuracy))\n",
    "    except:\n",
    "        print('Нет решения по ГОСТ\\'у.')\n",
    "        return\n",
    "    print('Оптимальные доли материалов: {} : {} : {}.'.format(abs(round(x.value[0],percentage_accuracy)),\n",
    "                                                  abs(round(x.value[1],percentage_accuracy)),\n",
    "                                                  abs(round(x.value[2],percentage_accuracy))))\n",
    "    return [abs(round(i,percentage_accuracy)) for i in x.value]"
   ]
  },
  {
   "cell_type": "markdown",
   "metadata": {},
   "source": [
    "Запишем функцию для этой задачи:"
   ]
  },
  {
   "cell_type": "code",
   "execution_count": 3,
   "metadata": {},
   "outputs": [],
   "source": [
    "def receipt(c, A, in_stock, need, b=[0.16, 0.18, 0.09, 0.005], cost_accuracy=None, percentage_accuracy=3):\n",
    "    '''\n",
    "    Функция, возвращающая оптимальные\n",
    "    доли материалов шихты\n",
    "    \n",
    "    c - список \n",
    "    стоимостей материалов\n",
    "    \n",
    "    A - 2D-список \n",
    "    составов материалов\n",
    "    \n",
    "    in_stock - список\n",
    "    количества материалов в наличии\n",
    "    \n",
    "    need - число,\n",
    "    которое надо произвести\n",
    "    \n",
    "    b - список\n",
    "    значений по ГОСТ'у\n",
    "    (по умолчанию, как в задаче)\n",
    "    \n",
    "    cost_accuracy - целое число\n",
    "    знаков после запятой стоимости за тонну\n",
    "    (по умолчанию None - до целого числа)\n",
    "    \n",
    "    percentage_accuracy - целое число\n",
    "    знаков после запятой значений оптимальных долей \n",
    "    (по умолчанию 3)\n",
    "    '''\n",
    "    \n",
    "    import cvxpy\n",
    "    import numpy as np\n",
    "    import warnings\n",
    "    \n",
    "    warnings.filterwarnings(\"ignore\", category=RuntimeWarning)\n",
    "    for i in c:\n",
    "        if i < 0:\n",
    "            raise Exception('Значение стоимости не может быть отрицательным')\n",
    "    for i in A:\n",
    "        for j in i:\n",
    "            if j < 0:\n",
    "                raise Exception('Значение состава материала не может быть отрицательным')\n",
    "    for i in in_stock:\n",
    "        if i < 0:\n",
    "            raise Exception('Значение количества материалов в наличии не может быть отрицательным')\n",
    "    for i in b:\n",
    "        if i < 0:\n",
    "            warnings.warn('Значение ограничения отрицательное, возможны проблемы!')\n",
    "    \n",
    "    c = np.array(c)\n",
    "    A = np.array(A)\n",
    "    b = np.array(b) * need\n",
    "    in_stock = np.array(in_stock)\n",
    "\n",
    "    x = cvxpy.Variable(shape=len(c), integer = False)\n",
    "    \n",
    "    constraints = [(A[0,:] @ x >= b[0]),\n",
    "                   (A[0,:] @ x <= b[1]),\n",
    "                   (A[1,:] @ x <= b[2]),\n",
    "                   (A[2,:] @ x <= b[3]),\n",
    "                   (sum(x) == need),\n",
    "                   (x >= 0),\n",
    "                   (x[0] <= in_stock[0]),\n",
    "                   (x[1] <= in_stock[1]),\n",
    "                   (x[2] <= in_stock[2])]\n",
    "               \n",
    "    total_value = c @ x\n",
    "    problem = cvxpy.Problem(cvxpy.Minimize(total_value), constraints=constraints)\n",
    "    \n",
    "    try:\n",
    "        print('Стоимость тонны, если выполнить условие по количеству: %s' %round(problem.solve()/need, cost_accuracy))\n",
    "        print('Доли материалов, если выполнить условие по количеству: {} : {} : {}.'.format(abs(round(x.value[0],percentage_accuracy)),\n",
    "                                                                                            abs(round(x.value[1],percentage_accuracy)),\n",
    "                                                                                            abs(round(x.value[2],percentage_accuracy))))\n",
    "    except:\n",
    "        print('Нельзя произвести необходимое число материала. Посчитаем сколько материала максимум мы можем произвести по оптимальному рецепту:')\n",
    "    \n",
    "    optimal = np.array(optimal_receipt(c, A, b=b / need, cost_accuracy=cost_accuracy, percentage_accuracy=percentage_accuracy))\n",
    "    coef = min(in_stock / optimal)\n",
    "    optimal_values = optimal * coef\n",
    "    output = sum(optimal_values)\n",
    "    \n",
    "    print('Сколько материалов потребуется по оптимальному рецепту: {} : {} : {}.'.format(abs(round(optimal_values[0],percentage_accuracy)),\n",
    "                                                                                        abs(round(optimal_values[1],percentage_accuracy)),\n",
    "                                                                                        abs(round(optimal_values[2],percentage_accuracy))))\n",
    "    print('В сумме произведем: %s тонн' %round(output,percentage_accuracy))"
   ]
  },
  {
   "cell_type": "markdown",
   "metadata": {},
   "source": [
    "# 6. Анализ\n",
    "\n",
    "Запустим функцию на наших данных:"
   ]
  },
  {
   "cell_type": "code",
   "execution_count": 4,
   "metadata": {},
   "outputs": [
    {
     "name": "stdout",
     "output_type": "stream",
     "text": [
      "Нельзя произвести необходимое число материала. Посчитаем сколько материала максимум мы можем произвести по оптимальному рецепту:\n",
      "Оптимальная стоимость тонны: 150\n",
      "Оптимальные доли материалов: 0.0 : 0.0 : 1.0.\n",
      "Сколько материалов потребуется по оптимальному рецепту: 0.0 : 0.0 : 75.0.\n",
      "В сумме произведем: 75.0 тонн\n"
     ]
    }
   ],
   "source": [
    "c = [300,200,150]\n",
    "\n",
    "A = [[0.15,0.15,0.17],\n",
    "     [0.1,0.08,0.09],\n",
    "     [0.007,0.003,0.005]]\n",
    "\n",
    "need = 200\n",
    "\n",
    "in_stock = [150,100,75]\n",
    "\n",
    "receipt(c, A, in_stock, need)"
   ]
  },
  {
   "cell_type": "markdown",
   "metadata": {},
   "source": [
    "В ходе решения этой задачи был получен ожидаемый ответ: нет решения для нужного числа материалов. Изначально было видно, что решения, подходящего нашим условиям нет, т.к. у нас никогда не выполнится условие по процентному содержанию хрома. Необходимо либо подкорректировать состав, либо найти дополнительных поставщиков.\n",
    "\n",
    "Вместо этого программа выдала сколько материала можно произвести по оптимальному рецепту"
   ]
  },
  {
   "cell_type": "markdown",
   "metadata": {},
   "source": [
    "Возьмем другие данные:"
   ]
  },
  {
   "cell_type": "code",
   "execution_count": 10,
   "metadata": {},
   "outputs": [
    {
     "name": "stdout",
     "output_type": "stream",
     "text": [
      "Стоимость тонны, если забить печь полностью: 205\n",
      "Доли материалов, если забить печь полностью: 40.0 : 100.0 : 60.0.\n",
      "Оптимальная стоимость тонны: 203\n",
      "Оптимальные доли материалов: 0.182 : 0.515 : 0.303.\n",
      "Сколько материалов потребуется по оптимальному рецепту: 35.34 : 100.0 : 58.835.\n",
      "В сумме произведем: 194.175 тонн\n"
     ]
    }
   ],
   "source": [
    "c = [300,200,150]\n",
    "\n",
    "A = [[0.14,0.2,0.17],\n",
    "     [0.08,0.05,0.12],\n",
    "     [0.004,0.003,0.009]]\n",
    "\n",
    "need = 200\n",
    "\n",
    "in_stock = [150,100,75]\n",
    "\n",
    "receipt(c, A, in_stock, need)"
   ]
  },
  {
   "cell_type": "markdown",
   "metadata": {},
   "source": [
    "Получаем, что в целом, можно забить печь полностью, но тогда стоимость тонны для нас возрастет на 2\\$."
   ]
  }
 ],
 "metadata": {
  "kernelspec": {
   "display_name": "Python 3",
   "language": "python",
   "name": "python3"
  },
  "language_info": {
   "codemirror_mode": {
    "name": "ipython",
    "version": 3
   },
   "file_extension": ".py",
   "mimetype": "text/x-python",
   "name": "python",
   "nbconvert_exporter": "python",
   "pygments_lexer": "ipython3",
   "version": "3.8.6"
  }
 },
 "nbformat": 4,
 "nbformat_minor": 4
}
